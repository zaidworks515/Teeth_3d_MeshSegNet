{
 "cells": [
  {
   "cell_type": "code",
   "execution_count": null,
   "metadata": {},
   "outputs": [
    {
     "name": "stdout",
     "output_type": "stream",
     "text": [
      "Saved rotated mesh as flipped_Sample_010_d.vtp\n",
      "Saved rotated mesh as flipped_Sample_011_d.vtp\n",
      "Saved rotated mesh as flipped_Sample_01_d.vtp\n",
      "Saved rotated mesh as flipped_Sample_02_d.vtp\n",
      "Saved rotated mesh as flipped_Sample_03_d.vtp\n",
      "Saved rotated mesh as flipped_Sample_04_d.vtp\n",
      "Saved rotated mesh as flipped_Sample_05_d.vtp\n",
      "Saved rotated mesh as flipped_Sample_06_d.vtp\n",
      "Saved rotated mesh as flipped_Sample_07_d.vtp\n",
      "Saved rotated mesh as flipped_Sample_08_d.vtp\n",
      "Saved rotated mesh as flipped_Sample_09_d.vtp\n"
     ]
    }
   ],
   "source": [
    "import os\n",
    "from vedo import *\n",
    "\n",
    "def rotate_mesh(mesh, axes=('y', 'x'), angle=180):\n",
    "\n",
    "    if 'y' in axes:\n",
    "        mesh.rotate(angle, axis=(1, 0, 0))  \n",
    "    if 'x' in axes:\n",
    "        mesh.rotate(angle, axis=(0, 1, 0))  \n",
    "    return mesh\n",
    "\n",
    "def create_rotated_meshes(input_path, output_path, axes=('y', 'x')):\n",
    "    if not os.path.exists(output_path):\n",
    "        os.makedirs(output_path)\n",
    "    \n",
    "    for file_name in os.listdir(input_path):\n",
    "        if file_name.endswith('.vtp'):\n",
    "            original_mesh = load(os.path.join(input_path, file_name))\n",
    "            \n",
    "            rotated_mesh = rotate_mesh(original_mesh.clone(), axes=axes)\n",
    "            \n",
    "            flipped_file_name = f\"flipped_{file_name}\"\n",
    "            \n",
    "            rotated_mesh.write(os.path.join(output_path, flipped_file_name))\n",
    "            print(f\"Saved rotated mesh as {flipped_file_name}\")\n",
    "\n",
    "input_path = './src'  \n",
    "output_path = './rotated_meshes'  \n",
    "\n",
    "create_rotated_meshes(input_path, output_path, axes=('y', 'x'))\n"
   ]
  }
 ],
 "metadata": {
  "kernelspec": {
   "display_name": "pythoncolab3-10-12",
   "language": "python",
   "name": "python3"
  },
  "language_info": {
   "codemirror_mode": {
    "name": "ipython",
    "version": 3
   },
   "file_extension": ".py",
   "mimetype": "text/x-python",
   "name": "python",
   "nbconvert_exporter": "python",
   "pygments_lexer": "ipython3",
   "version": "3.10.12"
  }
 },
 "nbformat": 4,
 "nbformat_minor": 2
}
