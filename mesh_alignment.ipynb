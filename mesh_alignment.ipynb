{
 "cells": [
  {
   "cell_type": "code",
   "execution_count": null,
   "metadata": {},
   "outputs": [],
   "source": [
    "import trimesh\n",
    "import numpy as np\n",
    "from scipy.spatial.transform import Rotation as R\n",
    "from scipy.optimize import minimize\n",
    "from scipy.spatial import cKDTree\n",
    "\n",
    "# Load meshes\n",
    "mesh1 = trimesh.load('src/Sample_01_d.vtp')\n",
    "mesh2 = trimesh.load('test/test.stl')\n",
    "\n",
    "# Extract vertices\n",
    "vertices1 = np.array(mesh1.vertices)\n",
    "vertices2 = np.array(mesh2.vertices)\n",
    "\n",
    "# Step 1: Align the bases\n",
    "# Since the base of every mesh is flat, find the lowest Z-point in both meshes\n",
    "def align_base(vertices):\n",
    "    min_z = np.min(vertices[:, 2])\n",
    "    vertices[:, 2] -= min_z\n",
    "    return vertices\n",
    "\n",
    "vertices1 = align_base(vertices1)\n",
    "vertices2 = align_base(vertices2)\n",
    "\n",
    "# Step 2: Scale Mesh 2 to match the size of Mesh 1\n",
    "scale_factor = np.mean(np.linalg.norm(vertices1, axis=1)) / np.mean(np.linalg.norm(vertices2, axis=1))\n",
    "vertices2 *= scale_factor\n",
    "\n",
    "# Step 3: Center both meshes to the origin\n",
    "center1 = np.mean(vertices1, axis=0)\n",
    "center2 = np.mean(vertices2, axis=0)\n",
    "\n",
    "vertices1 -= center1\n",
    "vertices2 -= center2\n",
    "\n",
    "# Step 4: Define an alignment function with ICP for different point counts\n",
    "def align_mesh(mesh_source, mesh_target):\n",
    "    target_tree = cKDTree(mesh_target)  # Create a KD-Tree for efficient nearest-neighbor search\n",
    "\n",
    "    def objective_function(params):\n",
    "        rotation = R.from_euler('xyz', params[:3]).as_matrix()\n",
    "        translation = params[3:6]\n",
    "        \n",
    "        # Apply transformation\n",
    "        transformed_vertices = (rotation @ mesh_source.T).T + translation\n",
    "        # Find nearest neighbors in the target mesh\n",
    "        distances, _ = target_tree.query(transformed_vertices)\n",
    "        \n",
    "        # Mean distance as error metric\n",
    "        return distances.mean()\n",
    "\n",
    "    # Initial rotation (0,0,0) and translation (0,0,0)\n",
    "    initial_params = np.zeros(6)\n",
    "    result = minimize(objective_function, initial_params, method='BFGS')\n",
    "    optimal_params = result.x\n",
    "\n",
    "    # Extract optimized rotation and translation\n",
    "    rotation_optimal = R.from_euler('xyz', optimal_params[:3]).as_matrix()\n",
    "    translation_optimal = optimal_params[3:6]\n",
    "    \n",
    "    # Transform source vertices\n",
    "    transformed_vertices = (rotation_optimal @ mesh_source.T).T + translation_optimal\n",
    "    return transformed_vertices\n",
    "\n",
    "# Align vertices2 to vertices1\n",
    "aligned_vertices2 = align_mesh(vertices2, vertices1)\n",
    "\n",
    "# Create an updated mesh with the aligned vertices\n",
    "aligned_mesh2 = trimesh.Trimesh(vertices=aligned_vertices2, faces=mesh2.faces)\n",
    "\n",
    "# Save the aligned mesh2 if needed\n",
    "aligned_mesh2.export('aligned_mesh2.obj')\n"
   ]
  },
  {
   "cell_type": "code",
   "execution_count": 8,
   "metadata": {},
   "outputs": [
    {
     "data": {
      "text/plain": [
       "1"
      ]
     },
     "execution_count": 8,
     "metadata": {},
     "output_type": "execute_result"
    }
   ],
   "source": [
    "import vtk\n",
    "\n",
    "\n",
    "reader = vtk.vtkXMLPolyDataReader()\n",
    "reader.SetFileName('src/Sample_07_d.vtp')\n",
    "reader.Update()\n",
    "poly_data = reader.GetOutput()\n",
    "\n",
    "transform = vtk.vtkTransform()\n",
    "transform.Scale(-1, -1, -1)  \n",
    "\n",
    "transform_filter = vtk.vtkTransformPolyDataFilter()\n",
    "transform_filter.SetInputData(poly_data)\n",
    "transform_filter.SetTransform(transform)\n",
    "transform_filter.Update()\n",
    "flipped_poly_data = transform_filter.GetOutput()\n",
    "\n",
    "writer = vtk.vtkXMLPolyDataWriter()\n",
    "writer.SetFileName('src/Sample_01007_d.vtp')\n",
    "writer.SetInputData(flipped_poly_data)\n",
    "writer.Write()"
   ]
  },
  {
   "cell_type": "code",
   "execution_count": null,
   "metadata": {},
   "outputs": [],
   "source": []
  }
 ],
 "metadata": {
  "kernelspec": {
   "display_name": "pythoncolab3-10-12",
   "language": "python",
   "name": "python3"
  },
  "language_info": {
   "codemirror_mode": {
    "name": "ipython",
    "version": 3
   },
   "file_extension": ".py",
   "mimetype": "text/x-python",
   "name": "python",
   "nbconvert_exporter": "python",
   "pygments_lexer": "ipython3",
   "version": "3.10.12"
  }
 },
 "nbformat": 4,
 "nbformat_minor": 2
}
